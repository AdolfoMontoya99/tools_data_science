{
 "cells": [
  {
   "cell_type": "markdown",
   "id": "97a390ee-c289-423f-962c-78c5bc15e76e",
   "metadata": {},
   "source": [
    "# Data Science Tools and Ecosystem"
   ]
  },
  {
   "cell_type": "markdown",
   "id": "61c11673-0a09-4bda-945a-cc3e8c6ef91c",
   "metadata": {},
   "source": [
    "## Author\n",
    "Adolfo Montoya"
   ]
  },
  {
   "cell_type": "markdown",
   "id": "9339b99d-1d9f-446c-a7eb-cfb63f57add1",
   "metadata": {},
   "source": [
    "Objectives:\n",
    "- list data science popular languages\n",
    "- list data science popular libraries\n",
    "- data science tools\n",
    "- arythmetic expressions in python"
   ]
  },
  {
   "cell_type": "markdown",
   "id": "3a46c703-f9ab-4128-994c-4d28a90775be",
   "metadata": {},
   "source": [
    "In this notebook, Data Science Tools and Ecosystem are summarized."
   ]
  },
  {
   "cell_type": "markdown",
   "id": "84c354c2-26a4-4c58-8ec0-6b602a438f48",
   "metadata": {},
   "source": [
    "Some of the popular languages that Data Scientists use are:\n",
    "1. python\n",
    "2. R\n",
    "3. SQL\n",
    "4. julia\n",
    "5. C++"
   ]
  },
  {
   "cell_type": "markdown",
   "id": "b99c9abf-52d5-4086-845b-c9cfac608878",
   "metadata": {},
   "source": [
    "Some of the commonly used libraries used by Data Scientists include:\n",
    "1. Numpy\n",
    "2. pandas\n",
    "3. matplotlib"
   ]
  },
  {
   "cell_type": "markdown",
   "id": "cf3347ad-a9a2-499d-8c45-437c630cfb1b",
   "metadata": {},
   "source": [
    "|Data Science Tools|\n",
    "|------------------|\n",
    "|Rstudio|\n",
    "|virtual studio code|\n",
    "|spyder|"
   ]
  },
  {
   "cell_type": "markdown",
   "id": "d177dc2c-d164-477e-8def-fbeca0c52382",
   "metadata": {},
   "source": [
    "### Below are a few examples of evaluating arithmetic expressions in Python"
   ]
  },
  {
   "cell_type": "code",
   "execution_count": 10,
   "id": "393650b4-c706-4227-80e4-04c817c96104",
   "metadata": {},
   "outputs": [
    {
     "data": {
      "text/plain": [
       "17"
      ]
     },
     "execution_count": 10,
     "metadata": {},
     "output_type": "execute_result"
    }
   ],
   "source": [
    "(3*4)+5\n",
    "#This a simple arithmetic expression to mutiply then add integers"
   ]
  },
  {
   "cell_type": "code",
   "execution_count": 12,
   "id": "68572d8d-62bd-45c8-a757-b4929ee798e3",
   "metadata": {},
   "outputs": [
    {
     "name": "stdout",
     "output_type": "stream",
     "text": [
      "3.3333333333333335\n"
     ]
    }
   ],
   "source": [
    "#This will convert 200 minutes to hours by diving by 60\n",
    "minutes = 200\n",
    "hours = minutes/60\n",
    "print(hours)"
   ]
  },
  {
   "cell_type": "code",
   "execution_count": null,
   "id": "2adcfbfd-fa8a-4def-b38e-cd1715e0ad5c",
   "metadata": {},
   "outputs": [],
   "source": []
  }
 ],
 "metadata": {
  "kernelspec": {
   "display_name": "Python 3 (ipykernel)",
   "language": "python",
   "name": "python3"
  },
  "language_info": {
   "codemirror_mode": {
    "name": "ipython",
    "version": 3
   },
   "file_extension": ".py",
   "mimetype": "text/x-python",
   "name": "python",
   "nbconvert_exporter": "python",
   "pygments_lexer": "ipython3",
   "version": "3.12.7"
  }
 },
 "nbformat": 4,
 "nbformat_minor": 5
}
